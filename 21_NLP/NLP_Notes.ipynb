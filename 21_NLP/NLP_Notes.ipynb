{
 "cells": [
  {
   "cell_type": "markdown",
   "id": "7ef4b415",
   "metadata": {},
   "source": [
    "# Natrual Language Processing (NLP)"
   ]
  },
  {
   "cell_type": "markdown",
   "id": "16badecd",
   "metadata": {},
   "source": [
    "**Resources**: \n",
    "\n",
    "* https://en.wikipedia.org/wiki/Natural_language_processing\n",
    "* https://hbr.org/2022/04/the-power-of-natural-language-processing\n",
    "* https://deeplearning.ai/resources/natural-language-processing/\n",
    "\n"
   ]
  },
  {
   "cell_type": "code",
   "execution_count": null,
   "id": "e720d19a",
   "metadata": {},
   "outputs": [],
   "source": []
  }
 ],
 "metadata": {
  "kernelspec": {
   "display_name": "Python 3 (ipykernel)",
   "language": "python",
   "name": "python3"
  },
  "language_info": {
   "codemirror_mode": {
    "name": "ipython",
    "version": 3
   },
   "file_extension": ".py",
   "mimetype": "text/x-python",
   "name": "python",
   "nbconvert_exporter": "python",
   "pygments_lexer": "ipython3",
   "version": "3.10.9"
  }
 },
 "nbformat": 4,
 "nbformat_minor": 5
}
