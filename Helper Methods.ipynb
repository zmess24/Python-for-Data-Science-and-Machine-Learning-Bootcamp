{
 "cells": [
  {
   "cell_type": "code",
   "execution_count": 2,
   "id": "d116711b",
   "metadata": {},
   "outputs": [],
   "source": [
    "def print_null_values(df):\n",
    "    count = df.isna().sum().sum()\n",
    "    percent = round(df.isna().sum().sum() / df.size * 100, 1)\n",
    "    \n",
    "    print(\"--Null Values--\")\n",
    "    print(f'Total Null Values: {count} / {df.size}')\n",
    "    print(f'Percent Null Values: %{percent}')\n",
    "    print(\"\")\n",
    "    print(\"--Null Values per Feature--\")\n",
    "    print(df.isna().sum())"
   ]
  },
  {
   "cell_type": "code",
   "execution_count": null,
   "id": "a3bd13b0",
   "metadata": {},
   "outputs": [],
   "source": []
  }
 ],
 "metadata": {
  "kernelspec": {
   "display_name": "Python 3 (ipykernel)",
   "language": "python",
   "name": "python3"
  },
  "language_info": {
   "codemirror_mode": {
    "name": "ipython",
    "version": 3
   },
   "file_extension": ".py",
   "mimetype": "text/x-python",
   "name": "python",
   "nbconvert_exporter": "python",
   "pygments_lexer": "ipython3",
   "version": "3.10.9"
  }
 },
 "nbformat": 4,
 "nbformat_minor": 5
}
